{
 "cells": [
  {
   "cell_type": "code",
   "execution_count": 1,
   "id": "b4f83769",
   "metadata": {},
   "outputs": [
    {
     "name": "stdout",
     "output_type": "stream",
     "text": [
      "hello\n"
     ]
    }
   ],
   "source": [
    "print(\"hello\")"
   ]
  },
  {
   "cell_type": "code",
   "execution_count": 2,
   "id": "f0da445b",
   "metadata": {},
   "outputs": [
    {
     "name": "stdout",
     "output_type": "stream",
     "text": [
      "Original shape: (2200, 8)\n",
      "Augmented shape: (5000, 8)\n"
     ]
    }
   ],
   "source": [
    "import pandas as pd\n",
    "import numpy as np\n",
    "\n",
    "# Load the original dataset\n",
    "df = pd.read_csv('Crop_recommendation.csv')\n",
    "print(f\"Original shape: {df.shape}\")\n",
    "\n",
    "target_size = 5000\n",
    "num_classes = df['label'].nunique()\n",
    "target_per_class = (target_size // num_classes) + 1  # 455 to slightly overshoot\n",
    "\n",
    "noise_factor = 0.02  # 2% noise for subtle augmentation\n",
    "numerical_cols = ['N', 'P', 'K', 'temperature', 'humidity', 'ph', 'rainfall']\n",
    "\n",
    "augmented_data = []  # List to hold dict representations of rows\n",
    "grouped = df.groupby('label')\n",
    "\n",
    "for label, group in grouped:\n",
    "    # Add original rows\n",
    "    for _, row in group.iterrows():\n",
    "        augmented_data.append(row.to_dict())\n",
    "    \n",
    "    num_original = len(group)\n",
    "    num_to_add = target_per_class - num_original\n",
    "    \n",
    "    # Generate augmented rows\n",
    "    for _ in range(num_to_add):\n",
    "        # Randomly sample a base row from the group\n",
    "        idx = np.random.randint(0, num_original)\n",
    "        base_row = group.iloc[idx]\n",
    "        new_row_dict = base_row.to_dict()\n",
    "        \n",
    "        # Add noise to numerical features\n",
    "        for col in numerical_cols:\n",
    "            std = abs(base_row[col]) * noise_factor if abs(base_row[col]) > 0 else 1.0\n",
    "            noise = np.random.normal(0, std)\n",
    "            if col in ['N', 'P', 'K']:\n",
    "                new_row_dict[col] = max(0, round(base_row[col] + noise))\n",
    "            else:\n",
    "                new_row_dict[col] = base_row[col] + noise\n",
    "        \n",
    "        augmented_data.append(new_row_dict)\n",
    "\n",
    "# Create augmented DataFrame\n",
    "aug_df = pd.DataFrame(augmented_data)\n",
    "\n",
    "# Trim to exactly target_size if overshot\n",
    "if len(aug_df) > target_size:\n",
    "    aug_df = aug_df.sample(n=target_size, random_state=42).reset_index(drop=True)\n",
    "\n",
    "print(f\"Augmented shape: {aug_df.shape}\")\n",
    "\n",
    "# Save the augmented dataset\n",
    "aug_df.to_csv('augmented_Crop_recommendation.csv', index=False)"
   ]
  },
  {
   "cell_type": "code",
   "execution_count": 3,
   "id": "38fbad44",
   "metadata": {},
   "outputs": [
    {
     "ename": "NameError",
     "evalue": "name 'X_train' is not defined",
     "output_type": "error",
     "traceback": [
      "\u001b[1;31m---------------------------------------------------------------------------\u001b[0m",
      "\u001b[1;31mNameError\u001b[0m                                 Traceback (most recent call last)",
      "Cell \u001b[1;32mIn[3], line 7\u001b[0m\n\u001b[0;32m      5\u001b[0m \u001b[38;5;66;03m# Train Random Forest\u001b[39;00m\n\u001b[0;32m      6\u001b[0m rf_model \u001b[38;5;241m=\u001b[39m RandomForestClassifier(n_estimators\u001b[38;5;241m=\u001b[39m\u001b[38;5;241m100\u001b[39m, random_state\u001b[38;5;241m=\u001b[39m\u001b[38;5;241m42\u001b[39m)\n\u001b[1;32m----> 7\u001b[0m rf_model\u001b[38;5;241m.\u001b[39mfit(\u001b[43mX_train\u001b[49m, y_train)\n\u001b[0;32m      9\u001b[0m \u001b[38;5;66;03m# Evaluate\u001b[39;00m\n\u001b[0;32m     10\u001b[0m rf_train_pred \u001b[38;5;241m=\u001b[39m rf_model\u001b[38;5;241m.\u001b[39mpredict(X_train)\n",
      "\u001b[1;31mNameError\u001b[0m: name 'X_train' is not defined"
     ]
    }
   ],
   "source": [
    "from sklearn.ensemble import RandomForestClassifier\n",
    "from sklearn.metrics import accuracy_score\n",
    "import pickle\n",
    "\n",
    "# Train Random Forest\n",
    "rf_model = RandomForestClassifier(n_estimators=100, random_state=42)\n",
    "rf_model.fit(X_train, y_train)\n",
    "\n",
    "# Evaluate\n",
    "rf_train_pred = rf_model.predict(X_train)\n",
    "rf_test_pred = rf_model.predict(X_test)\n",
    "print(\"RF Training Accuracy:\", accuracy_score(y_train, rf_train_pred))\n",
    "print(\"RF Test Accuracy:\", accuracy_score(y_test, rf_test_pred))\n",
    "\n",
    "# Save the model\n",
    "with open('rf_model.pkl', 'wb') as f:\n",
    "    pickle.dump(rf_model, f)"
   ]
  }
 ],
 "metadata": {
  "kernelspec": {
   "display_name": "Python 3",
   "language": "python",
   "name": "python3"
  },
  "language_info": {
   "codemirror_mode": {
    "name": "ipython",
    "version": 3
   },
   "file_extension": ".py",
   "mimetype": "text/x-python",
   "name": "python",
   "nbconvert_exporter": "python",
   "pygments_lexer": "ipython3",
   "version": "3.10.11"
  }
 },
 "nbformat": 4,
 "nbformat_minor": 5
}
